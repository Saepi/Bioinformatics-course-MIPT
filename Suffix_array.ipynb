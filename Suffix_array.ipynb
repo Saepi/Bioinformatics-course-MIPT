{
 "cells": [
  {
   "attachments": {},
   "cell_type": "markdown",
   "metadata": {},
   "source": [
    "### Суффиксный массив\n",
    "\n",
    "Пользуясь алгоритмом построения суффиксного массива, произве дите выравнивание коротких строк на длинную: Длинная строка: ACTGATCGGCA Короткие строки: GAT и GCC"
   ]
  },
  {
   "cell_type": "code",
   "execution_count": 43,
   "metadata": {},
   "outputs": [],
   "source": [
    "def suffix_array(string):\n",
    "    length = len(string)\n",
    "    suffix_array = [string[position:] for position in range(length)] # Определяем все суффиксы\n",
    "\n",
    "    sorted_pairs = sorted((suffix, num) for num, suffix in enumerate(suffix_array)) # Сортируем суффиксы вместе с их номерами\n",
    "    sorted_index = [pairs[1] for pairs in sorted_pairs] # Выдаем номера отсортированных суффкисов \n",
    "    return sorted_index"
   ]
  },
  {
   "cell_type": "code",
   "execution_count": 58,
   "metadata": {},
   "outputs": [],
   "source": [
    "def search_lower_bound(query, string, suffix_array):\n",
    "    if len(suffix_array) == 0:\n",
    "        return None\n",
    "\n",
    "    middle = suffix_array[(len(suffix_array) - 1) // 2] # Находим срединный элемент\n",
    "    piece = string[middle:]\n",
    "\n",
    "    comparison = piece[:len(query)]\n",
    "\n",
    "    if len(suffix_array) == 1: # База рекурсии. Если присутсвует query - выдаем его, иначе нет\n",
    "        return middle if query == comparison else None\n",
    "\n",
    "    index = suffix_array.index(middle)\n",
    "\n",
    "    if comparison == query: # Если нашли совпадение, то переходим в нижнюю часть массива, т к поиск нижней границы\n",
    "        suffix_array = suffix_array[:index + 1]\n",
    "    elif comparison > query: \n",
    "        suffix_array = suffix_array[:index]\n",
    "    elif comparison < query:\n",
    "        suffix_array = suffix_array[index + 1:]\n",
    "    \n",
    "    return search_lower_bound(query, string, suffix_array)\n",
    "\n",
    "\n",
    "def search_upper_bound(query, string, suffix_array):\n",
    "    if len(suffix_array) == 0:\n",
    "        return None\n",
    "\n",
    "    middle = suffix_array[len(suffix_array) // 2] # Находим срединный элемент\n",
    "    piece = string[middle:]\n",
    "\n",
    "    comparison = piece[:len(query)]\n",
    "\n",
    "    if len(suffix_array) == 1: # База рекурсии. Если присутсвует query - выдаем его, иначе нет\n",
    "        return middle if query == comparison else None\n",
    "\n",
    "    index = suffix_array.index(middle)\n",
    "\n",
    "    if comparison == query: # Если нашли совпадение, то переходим в верхнюю часть массива, т к поиск верхней границы\n",
    "        suffix_array = suffix_array[index + 1:]\n",
    "    elif comparison > query:\n",
    "        suffix_array = suffix_array[:index]\n",
    "    elif comparison < query:\n",
    "        suffix_array = suffix_array[index + 1:]\n",
    "    \n",
    "    return search_upper_bound(query, string, suffix_array)"
   ]
  },
  {
   "cell_type": "code",
   "execution_count": 62,
   "metadata": {},
   "outputs": [],
   "source": [
    "def alignment(query, string):\n",
    "    suf_array = suffix_array(string) # Создаем суффиксный массив\n",
    "\n",
    "    lower_bond = search_lower_bound(query, string, suf_array) # Ищем в суффиксном массиве нижнее и верхнее вхождения строки query\n",
    "    upper_bond = search_upper_bound(query, string, suf_array)\n",
    "\n",
    "    if lower_bond == None or upper_bond == None: # Проверка на вхождение в массив вообще\n",
    "        return \"Нет вхождения\"\n",
    "    else:\n",
    "        lower_bond_index = suf_array.index(lower_bond) # Определяем диапазон вхождений в суффиксном массиве\n",
    "        upper_bond_index = suf_array.index(upper_bond)\n",
    "\n",
    "        positions = [suf_array[index] for index in range(lower_bond_index, upper_bond_index + 1)] # Достаем позиции всех вхождений в исходном массиве\n",
    "\n",
    "        return sorted(positions)"
   ]
  },
  {
   "cell_type": "code",
   "execution_count": 65,
   "metadata": {},
   "outputs": [
    {
     "name": "stdout",
     "output_type": "stream",
     "text": [
      "[3]\n",
      "нет вхождения\n"
     ]
    }
   ],
   "source": [
    "string = \"ACTGATCGGCA\"\n",
    "query_1 = \"GAT\"\n",
    "query_2 = \"GCC\"\n",
    "\n",
    "print(alignment(query_1, string))\n",
    "print(alignment(query_2, string))"
   ]
  }
 ],
 "metadata": {
  "kernelspec": {
   "display_name": "Python 3",
   "language": "python",
   "name": "python3"
  },
  "language_info": {
   "codemirror_mode": {
    "name": "ipython",
    "version": 3
   },
   "file_extension": ".py",
   "mimetype": "text/x-python",
   "name": "python",
   "nbconvert_exporter": "python",
   "pygments_lexer": "ipython3",
   "version": "3.11.0"
  },
  "orig_nbformat": 4
 },
 "nbformat": 4,
 "nbformat_minor": 2
}
